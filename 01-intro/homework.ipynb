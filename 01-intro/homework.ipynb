{
 "cells": [
  {
   "cell_type": "code",
   "execution_count": 17,
   "id": "b2bd82d7",
   "metadata": {},
   "outputs": [
    {
     "name": "stdout",
     "output_type": "stream",
     "text": [
      "Python 3.12.6\n"
     ]
    }
   ],
   "source": [
    "!python -V"
   ]
  },
  {
   "cell_type": "code",
   "execution_count": 18,
   "id": "41062d8a",
   "metadata": {},
   "outputs": [],
   "source": [
    "import pandas as pd\n",
    "from sklearn.feature_extraction import DictVectorizer\n",
    "from sklearn.linear_model import LinearRegression\n",
    "from sklearn.metrics import root_mean_squared_error"
   ]
  },
  {
   "cell_type": "code",
   "execution_count": 19,
   "id": "1338c350-66e7-406f-8eba-ac87eb372225",
   "metadata": {},
   "outputs": [],
   "source": [
    "# Read the data for January. How many columns are there?"
   ]
  },
  {
   "cell_type": "code",
   "execution_count": 20,
   "id": "3de7f0e8-24df-4881-9975-f60f84243c63",
   "metadata": {},
   "outputs": [
    {
     "data": {
      "text/plain": [
       "19"
      ]
     },
     "execution_count": 20,
     "metadata": {},
     "output_type": "execute_result"
    }
   ],
   "source": [
    "df_january = pd.read_parquet('./data/yellow_tripdata_2023-01.parquet')\n",
    "number_of_columns = len(df_january.columns)\n",
    "number_of_columns"
   ]
  },
  {
   "cell_type": "code",
   "execution_count": 21,
   "id": "0f20e176-3e72-4af4-bddc-fc98edbeb97e",
   "metadata": {},
   "outputs": [],
   "source": [
    "# What's the standard deviation of the trips duration in January?"
   ]
  },
  {
   "cell_type": "code",
   "execution_count": 22,
   "id": "49ee108a-d323-4b91-855e-0de546113d15",
   "metadata": {},
   "outputs": [
    {
     "data": {
      "text/plain": [
       "np.float64(42.59435124195458)"
      ]
     },
     "execution_count": 22,
     "metadata": {},
     "output_type": "execute_result"
    }
   ],
   "source": [
    "df_january['duration'] = df_january.tpep_dropoff_datetime - df_january.tpep_pickup_datetime\n",
    "df_january.duration = df_january.duration.apply(lambda td: td.total_seconds() / 60)\n",
    "df_january['duration'].std()"
   ]
  },
  {
   "cell_type": "code",
   "execution_count": 23,
   "id": "7097ca0d-a865-4c4b-9a90-47994936ca01",
   "metadata": {},
   "outputs": [],
   "source": [
    "# Next, we need to check the distribution of the duration variable. \n",
    "# There are some outliers. \n",
    "# Let's remove them and keep only the records where the duration was between 1 and 60 minutes (inclusive).\n",
    "# What fraction of the records left after you dropped the outliers?"
   ]
  },
  {
   "cell_type": "code",
   "execution_count": 24,
   "id": "842f00b9-ad28-4b39-a310-5938d9679063",
   "metadata": {},
   "outputs": [
    {
     "data": {
      "text/plain": [
       "(3066766, 3009173, 0.9812202822125979)"
      ]
     },
     "execution_count": 24,
     "metadata": {},
     "output_type": "execute_result"
    }
   ],
   "source": [
    "original_count = len(df_january)\n",
    "df_january_filtered = df_january[(df_january.duration >= 1) & (df_january.duration <= 60)]\n",
    "filtered_count = len(df_january_filtered)\n",
    "fraction_remaining = filtered_count / original_count\n",
    "\n",
    "# Fraction of records left\n",
    "original_count, filtered_count, fraction_remaining"
   ]
  },
  {
   "cell_type": "code",
   "execution_count": 25,
   "id": "b4308312-523a-4dbd-88a9-d8070cfc03c8",
   "metadata": {},
   "outputs": [],
   "source": [
    "#Let's apply one-hot encoding to the pickup and dropoff location IDs. We'll use only these two features for our model.\n",
    "#Turn the dataframe into a list of dictionaries (remember to re-cast the ids to strings - otherwise it will label encode them)\n",
    "#Fit a dictionary vectorizer\n",
    "#Get a feature matrix from it\n",
    "#What's the dimensionality of this matrix (number of columns)?"
   ]
  },
  {
   "cell_type": "code",
   "execution_count": 26,
   "id": "be9014ad-6a95-4502-a91d-95f8460c0ccc",
   "metadata": {},
   "outputs": [
    {
     "name": "stderr",
     "output_type": "stream",
     "text": [
      "C:\\Users\\WINDOWS 10\\AppData\\Local\\Temp\\ipykernel_770016\\3725902332.py:4: SettingWithCopyWarning: \n",
      "A value is trying to be set on a copy of a slice from a DataFrame.\n",
      "Try using .loc[row_indexer,col_indexer] = value instead\n",
      "\n",
      "See the caveats in the documentation: https://pandas.pydata.org/pandas-docs/stable/user_guide/indexing.html#returning-a-view-versus-a-copy\n",
      "  df_january_filtered[categorical] = df_january_filtered[categorical].astype(str)\n"
     ]
    },
    {
     "data": {
      "text/plain": [
       "515"
      ]
     },
     "execution_count": 26,
     "metadata": {},
     "output_type": "execute_result"
    }
   ],
   "source": [
    "# Convert IDs to strings to ensure one-hot encoding instead of label encoding\n",
    "# Use only the pickup and dropoff columns\n",
    "categorical = ['PULocationID', 'DOLocationID']\n",
    "df_january_filtered[categorical] = df_january_filtered[categorical].astype(str)\n",
    "\n",
    "# Turn into list of dictionaries\n",
    "dicts = df_january_filtered[categorical].to_dict(orient='records')\n",
    "\n",
    "# Fit DictVectorizer\n",
    "dv = DictVectorizer()\n",
    "X = dv.fit_transform(dicts)\n",
    "\n",
    "# Check dimensionality\n",
    "X.shape[1]"
   ]
  },
  {
   "cell_type": "code",
   "execution_count": 27,
   "id": "e305c0a9-127a-443b-9cfb-1ad174ce8557",
   "metadata": {},
   "outputs": [],
   "source": [
    "# Now let's use the feature matrix from the previous step to train a model.\n",
    "# Train a plain linear regression model with default parameters, where duration is the response variable\n",
    "# Calculate the RMSE of the model on the training data\n",
    "# What's the RMSE on train?"
   ]
  },
  {
   "cell_type": "code",
   "execution_count": 28,
   "id": "3b1b9310-a07a-46dd-a96b-35ef150aebf7",
   "metadata": {},
   "outputs": [
    {
     "name": "stdout",
     "output_type": "stream",
     "text": [
      "RMSE on training data: 7.65\n"
     ]
    }
   ],
   "source": [
    "y_train = df_january_filtered['duration'].values\n",
    "\n",
    "# Train linear regression\n",
    "model = LinearRegression()\n",
    "model.fit(X, y_train)\n",
    "\n",
    "# Predict on training data\n",
    "y_pred = model.predict(X)\n",
    "\n",
    "# Calculate RMSE\n",
    "rmse = root_mean_squared_error(y_train, y_pred)\n",
    "print(f\"RMSE on training data: {rmse:.2f}\")\n"
   ]
  },
  {
   "cell_type": "code",
   "execution_count": 29,
   "id": "5e9b0bca-5aa9-49a1-b208-e61d1b3cead6",
   "metadata": {},
   "outputs": [],
   "source": [
    "# Now let's apply this model to the validation dataset (February 2023).\n",
    "# What's the RMSE on validation?"
   ]
  },
  {
   "cell_type": "code",
   "execution_count": 33,
   "id": "9ad5e6b0-f126-4be1-ab4c-ca296d88119f",
   "metadata": {},
   "outputs": [
    {
     "name": "stderr",
     "output_type": "stream",
     "text": [
      "C:\\Users\\WINDOWS 10\\AppData\\Local\\Temp\\ipykernel_770016\\3925252182.py:11: SettingWithCopyWarning: \n",
      "A value is trying to be set on a copy of a slice from a DataFrame.\n",
      "Try using .loc[row_indexer,col_indexer] = value instead\n",
      "\n",
      "See the caveats in the documentation: https://pandas.pydata.org/pandas-docs/stable/user_guide/indexing.html#returning-a-view-versus-a-copy\n",
      "  df_february_filtered[categorical] = df_february_filtered[categorical].astype(str)\n"
     ]
    },
    {
     "name": "stdout",
     "output_type": "stream",
     "text": [
      "RMSE on validation data: 7.81\n"
     ]
    }
   ],
   "source": [
    "df_february = pd.read_parquet('./data/yellow_tripdata_2023-02.parquet')\n",
    "\n",
    "# Compute duration in minutes\n",
    "df_february['duration'] = df_february.tpep_dropoff_datetime - df_february.tpep_pickup_datetime\n",
    "df_february['duration'] = df_february['duration'].apply(lambda td: td.total_seconds() / 60)\n",
    "\n",
    "# Filter outliers: keep only trips between 1 and 60 minutes\n",
    "df_february_filtered = df_february[(df_february['duration'] >= 1) & (df_february['duration'] <= 60)]\n",
    "\n",
    "# Prepare categorical features\n",
    "df_february_filtered[categorical] = df_february_filtered[categorical].astype(str)\n",
    "\n",
    "# Convert to list of dictionaries\n",
    "dicts_val = df_february_filtered[categorical].to_dict(orient='records')\n",
    "\n",
    "# Transform using the fitted DictVectorizer (from January)\n",
    "X_val = dv.transform(dicts_val)\n",
    "\n",
    "# Target variable\n",
    "y_val = df_february_filtered['duration']\n",
    "\n",
    "# Predict and calculate RMSE using the trained model\n",
    "y_pred_val = model.predict(X_val)\n",
    "rmse_val = root_mean_squared_error(y_val, y_pred_val)\n",
    "\n",
    "# Output the result\n",
    "print(f\"RMSE on validation data: {rmse_val:.2f}\")"
   ]
  },
  {
   "cell_type": "code",
   "execution_count": null,
   "id": "ccf39b0a-6f16-40c8-9029-61f946b924d5",
   "metadata": {},
   "outputs": [],
   "source": []
  }
 ],
 "metadata": {
  "kernelspec": {
   "display_name": "Python 3 (ipykernel)",
   "language": "python",
   "name": "python3"
  },
  "language_info": {
   "codemirror_mode": {
    "name": "ipython",
    "version": 3
   },
   "file_extension": ".py",
   "mimetype": "text/x-python",
   "name": "python",
   "nbconvert_exporter": "python",
   "pygments_lexer": "ipython3",
   "version": "3.12.6"
  }
 },
 "nbformat": 4,
 "nbformat_minor": 5
}
